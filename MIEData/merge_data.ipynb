{
 "cells": [
  {
   "cell_type": "code",
   "execution_count": 1,
   "metadata": {},
   "outputs": [],
   "source": [
    "import json"
   ]
  },
  {
   "cell_type": "code",
   "execution_count": 3,
   "metadata": {},
   "outputs": [],
   "source": [
    "with open('train.json', 'r', encoding='utf8') as f:\n",
    "    train = json.load(f)"
   ]
  },
  {
   "cell_type": "code",
   "execution_count": 14,
   "metadata": {},
   "outputs": [],
   "source": [
    "utterance_concat = []\n",
    "for dialog in train:\n",
    "    dialog_utterance = []\n",
    "    for window in dialog:\n",
    "        dialog_utterance.append(window['utterances'][-1])\n",
    "    utterance_concat.append(dialog_utterance)"
   ]
  },
  {
   "cell_type": "code",
   "execution_count": 21,
   "metadata": {},
   "outputs": [],
   "source": [
    "def _merge(previous_statuses_w, current_statuses_w):\n",
    "    if '阳性' in previous_statuses_w and '阴性' in current_statuses_w:\n",
    "        previous_statuses_w.remove('阳性')\n",
    "    if '阴性' in previous_statuses_w and '阳性' in current_statuses_w:\n",
    "        previous_statuses_w.remove('阴性')\n",
    "    if '医生阳性' in previous_statuses_w and '医生阴性' in current_statuses_w:\n",
    "        previous_statuses_w.remove('医生阳性')\n",
    "    if '医生阴性' in previous_statuses_w and '医生阳性' in current_statuses_w:\n",
    "        previous_statuses_w.remove('医生阴性')\n",
    "    if '未知' in previous_statuses_w and len(current_statuses_w) > 0:\n",
    "        previous_statuses_w.remove('未知')\n",
    "    if len(previous_statuses_w) > 0 and '未知' in current_statuses_w:\n",
    "        current_statuses_w.remove('未知')\n",
    "    merged_statuses_w = previous_statuses_w | current_statuses_w\n",
    "    return merged_statuses_w\n",
    "    \n",
    "def _construct_prefixs(labels):\n",
    "    prefixs = dict()\n",
    "    for label in labels:\n",
    "        prefix, status = label.split('-')\n",
    "        status = status.split(':')[-1]\n",
    "        try:\n",
    "            prefixs[prefix].add(status)\n",
    "        except KeyError:\n",
    "            prefixs[prefix] = {status}\n",
    "    return prefixs\n",
    "\n",
    "def merge(previous_labels_w, current_labels_w):\n",
    "    previous_prefixs = _construct_prefixs(previous_labels_w)\n",
    "    current_prefixs = _construct_prefixs(current_labels_w)\n",
    "    for key in current_prefixs.keys():\n",
    "        if key not in previous_prefixs:\n",
    "            previous_prefixs[key] = current_prefixs[key]\n",
    "        else:\n",
    "            previous_prefixs[key] = _merge(previous_prefixs[key], current_prefixs[key])\n",
    "    merged_labels_w = set()\n",
    "    for key in previous_prefixs.keys():\n",
    "        for status in previous_prefixs[key]:\n",
    "            merged_labels_w.add('{}-{}'.format(key, status))\n",
    "    return merged_labels_w\n"
   ]
  },
  {
   "cell_type": "code",
   "execution_count": 29,
   "metadata": {},
   "outputs": [],
   "source": [
    "label_concat = []\n",
    "for dialog in train:\n",
    "    dialog_label = set()\n",
    "    for window in dialog:\n",
    "        dialog_label = merge(dialog_label, set(window['label']))\n",
    "    label_concat.append(list(dialog_label))"
   ]
  },
  {
   "cell_type": "code",
   "execution_count": 30,
   "metadata": {},
   "outputs": [],
   "source": [
    "dialog_with_label = []\n",
    "for i in range(len(label_concat)):\n",
    "    dialog_with_label.append({'utterance': utterance_concat[i], 'label': label_concat[i]})"
   ]
  },
  {
   "cell_type": "code",
   "execution_count": 46,
   "metadata": {},
   "outputs": [],
   "source": [
    "output = json.dumps(dialog_with_label,ensure_ascii=False)"
   ]
  },
  {
   "cell_type": "code",
   "execution_count": 52,
   "metadata": {},
   "outputs": [],
   "source": [
    "with open('D:/NLPCode/MIE-ACL-2020/concatenated.json', 'w') as outfile:\n",
    "    outfile.write(output)\n"
   ]
  }
 ],
 "metadata": {
  "kernelspec": {
   "display_name": "Python 3.8.10 ('base')",
   "language": "python",
   "name": "python3"
  },
  "language_info": {
   "codemirror_mode": {
    "name": "ipython",
    "version": 3
   },
   "file_extension": ".py",
   "mimetype": "text/x-python",
   "name": "python",
   "nbconvert_exporter": "python",
   "pygments_lexer": "ipython3",
   "version": "3.8.10"
  },
  "orig_nbformat": 4,
  "vscode": {
   "interpreter": {
    "hash": "2f394aca7ca06fed1e6064aef884364492d7cdda3614a461e02e6407fc40ba69"
   }
  }
 },
 "nbformat": 4,
 "nbformat_minor": 2
}
